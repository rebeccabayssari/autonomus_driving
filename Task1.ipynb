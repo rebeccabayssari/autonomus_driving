{
 "cells": [
  {
   "cell_type": "markdown",
   "id": "cdbdcaab",
   "metadata": {},
   "source": [
    "<center><img src='./Figs/cs-logo.png' width=200></center>\n",
    "\n",
    "\n",
    "\n",
    "<h6><center></center></h6>\n",
    "\n",
    "<h1>\n",
    "<hr style=\" border:none; height:3px;\">\n",
    "<center> Mention IA - Reinforcement Learning - Task 1</center>\n",
    "<hr style=\" border:none; height:3px;\">\n",
    "</h1>"
   ]
  },
  {
   "cell_type": "markdown",
   "id": "4695917c",
   "metadata": {},
   "source": [
    "### Presenté par\n",
    "\n",
    "- **Rebecca Bayssari**  \n",
    "  📧 rebecca.bayssari@student-cs.fr  "
   ]
  },
  {
   "cell_type": "markdown",
   "id": "3e915c5a",
   "metadata": {},
   "source": [
    "### Installation and Setup"
   ]
  },
  {
   "cell_type": "code",
   "execution_count": 3,
   "id": "bd6ffe68",
   "metadata": {},
   "outputs": [
    {
     "name": "stdout",
     "output_type": "stream",
     "text": [
      "Requirement already satisfied: imageio in c:\\users\\tonya\\appdata\\local\\programs\\python\\python312\\lib\\site-packages (2.37.0)\n",
      "Requirement already satisfied: numpy in c:\\users\\tonya\\appdata\\local\\programs\\python\\python312\\lib\\site-packages (from imageio) (1.26.3)\n",
      "Requirement already satisfied: pillow>=8.3.2 in c:\\users\\tonya\\appdata\\local\\programs\\python\\python312\\lib\\site-packages (from imageio) (10.2.0)\n"
     ]
    },
    {
     "name": "stderr",
     "output_type": "stream",
     "text": [
      "\n",
      "[notice] A new release of pip is available: 24.3.1 -> 25.0.1\n",
      "[notice] To update, run: python.exe -m pip install --upgrade pip\n"
     ]
    }
   ],
   "source": [
    "! pip install  imageio"
   ]
  },
  {
   "cell_type": "code",
   "execution_count": 4,
   "id": "1abff566",
   "metadata": {},
   "outputs": [
    {
     "name": "stdout",
     "output_type": "stream",
     "text": [
      "Requirement already satisfied: gymnasium in c:\\users\\tonya\\appdata\\local\\programs\\python\\python312\\lib\\site-packages (1.0.0)\n",
      "Requirement already satisfied: numpy>=1.21.0 in c:\\users\\tonya\\appdata\\local\\programs\\python\\python312\\lib\\site-packages (from gymnasium) (1.26.3)\n",
      "Requirement already satisfied: cloudpickle>=1.2.0 in c:\\users\\tonya\\appdata\\local\\programs\\python\\python312\\lib\\site-packages (from gymnasium) (3.1.1)\n",
      "Requirement already satisfied: typing-extensions>=4.3.0 in c:\\users\\tonya\\appdata\\local\\programs\\python\\python312\\lib\\site-packages (from gymnasium) (4.12.2)\n",
      "Requirement already satisfied: farama-notifications>=0.0.1 in c:\\users\\tonya\\appdata\\local\\programs\\python\\python312\\lib\\site-packages (from gymnasium) (0.0.4)\n"
     ]
    },
    {
     "name": "stderr",
     "output_type": "stream",
     "text": [
      "\n",
      "[notice] A new release of pip is available: 24.3.1 -> 25.0.1\n",
      "[notice] To update, run: python.exe -m pip install --upgrade pip\n"
     ]
    },
    {
     "name": "stdout",
     "output_type": "stream",
     "text": [
      "Requirement already satisfied: highway-env in c:\\users\\tonya\\appdata\\local\\programs\\python\\python312\\lib\\site-packages (1.10.1)\n",
      "Requirement already satisfied: gymnasium>=1.0.0a2 in c:\\users\\tonya\\appdata\\local\\programs\\python\\python312\\lib\\site-packages (from highway-env) (1.0.0)\n",
      "Requirement already satisfied: farama-notifications>=0.0.1 in c:\\users\\tonya\\appdata\\local\\programs\\python\\python312\\lib\\site-packages (from highway-env) (0.0.4)\n",
      "Requirement already satisfied: numpy>=1.21.0 in c:\\users\\tonya\\appdata\\local\\programs\\python\\python312\\lib\\site-packages (from highway-env) (1.26.3)\n",
      "Requirement already satisfied: pygame>=2.0.2 in c:\\users\\tonya\\appdata\\local\\programs\\python\\python312\\lib\\site-packages (from highway-env) (2.6.1)\n",
      "Requirement already satisfied: matplotlib in c:\\users\\tonya\\appdata\\local\\programs\\python\\python312\\lib\\site-packages (from highway-env) (3.10.0)\n",
      "Requirement already satisfied: pandas in c:\\users\\tonya\\appdata\\local\\programs\\python\\python312\\lib\\site-packages (from highway-env) (2.2.3)\n",
      "Requirement already satisfied: scipy in c:\\users\\tonya\\appdata\\local\\programs\\python\\python312\\lib\\site-packages (from highway-env) (1.15.1)\n",
      "Requirement already satisfied: cloudpickle>=1.2.0 in c:\\users\\tonya\\appdata\\local\\programs\\python\\python312\\lib\\site-packages (from gymnasium>=1.0.0a2->highway-env) (3.1.1)\n",
      "Requirement already satisfied: typing-extensions>=4.3.0 in c:\\users\\tonya\\appdata\\local\\programs\\python\\python312\\lib\\site-packages (from gymnasium>=1.0.0a2->highway-env) (4.12.2)\n",
      "Requirement already satisfied: contourpy>=1.0.1 in c:\\users\\tonya\\appdata\\local\\programs\\python\\python312\\lib\\site-packages (from matplotlib->highway-env) (1.3.1)\n",
      "Requirement already satisfied: cycler>=0.10 in c:\\users\\tonya\\appdata\\local\\programs\\python\\python312\\lib\\site-packages (from matplotlib->highway-env) (0.12.1)\n",
      "Requirement already satisfied: fonttools>=4.22.0 in c:\\users\\tonya\\appdata\\local\\programs\\python\\python312\\lib\\site-packages (from matplotlib->highway-env) (4.55.7)\n",
      "Requirement already satisfied: kiwisolver>=1.3.1 in c:\\users\\tonya\\appdata\\local\\programs\\python\\python312\\lib\\site-packages (from matplotlib->highway-env) (1.4.8)\n",
      "Requirement already satisfied: packaging>=20.0 in c:\\users\\tonya\\appdata\\roaming\\python\\python312\\site-packages (from matplotlib->highway-env) (24.2)\n",
      "Requirement already satisfied: pillow>=8 in c:\\users\\tonya\\appdata\\local\\programs\\python\\python312\\lib\\site-packages (from matplotlib->highway-env) (10.2.0)\n",
      "Requirement already satisfied: pyparsing>=2.3.1 in c:\\users\\tonya\\appdata\\local\\programs\\python\\python312\\lib\\site-packages (from matplotlib->highway-env) (3.2.1)\n",
      "Requirement already satisfied: python-dateutil>=2.7 in c:\\users\\tonya\\appdata\\roaming\\python\\python312\\site-packages (from matplotlib->highway-env) (2.9.0.post0)\n",
      "Requirement already satisfied: pytz>=2020.1 in c:\\users\\tonya\\appdata\\local\\programs\\python\\python312\\lib\\site-packages (from pandas->highway-env) (2024.2)\n",
      "Requirement already satisfied: tzdata>=2022.7 in c:\\users\\tonya\\appdata\\local\\programs\\python\\python312\\lib\\site-packages (from pandas->highway-env) (2025.1)\n",
      "Requirement already satisfied: six>=1.5 in c:\\users\\tonya\\appdata\\roaming\\python\\python312\\site-packages (from python-dateutil>=2.7->matplotlib->highway-env) (1.17.0)\n"
     ]
    },
    {
     "name": "stderr",
     "output_type": "stream",
     "text": [
      "\n",
      "[notice] A new release of pip is available: 24.3.1 -> 25.0.1\n",
      "[notice] To update, run: python.exe -m pip install --upgrade pip\n"
     ]
    }
   ],
   "source": [
    "! pip install gymnasium\n",
    "! pip install highway-env"
   ]
  },
  {
   "cell_type": "markdown",
   "id": "424069b7",
   "metadata": {},
   "source": [
    "### Environment Initialization and Configuration"
   ]
  },
  {
   "cell_type": "markdown",
   "id": "93cb0b15",
   "metadata": {},
   "source": [
    "We begin by importing essential libraries for deep learning and reinforcement learning"
   ]
  },
  {
   "cell_type": "code",
   "execution_count": 5,
   "id": "a4dea18c",
   "metadata": {},
   "outputs": [],
   "source": [
    "%matplotlib inline\n",
    "\n",
    "import gymnasium as gym\n",
    "from matplotlib import pyplot as plt\n",
    "import pprint\n",
    "import pickle\n",
    "import highway_env  \n",
    "from copy import deepcopy\n",
    "import torch\n",
    "import torch.nn as nn\n",
    "import torch.nn.functional as F\n",
    "import torch.optim as optim\n",
    "import numpy as np\n",
    "import random\n",
    "from IPython.display import clear_output\n",
    "import time"
   ]
  },
  {
   "cell_type": "markdown",
   "id": "50f5c778",
   "metadata": {},
   "source": [
    "Next, we load a custom configuration file (config.pkl) and apply it to initialize the Highway-Fast-v0 environment.This configuration defines important simulation parameters such as the observation type, number of lanes, vehicle behavior, and reward structure allowing us to customize the driving scenario before training the agent."
   ]
  },
  {
   "cell_type": "code",
   "execution_count": 6,
   "id": "ad4ffc83",
   "metadata": {},
   "outputs": [
    {
     "name": "stdout",
     "output_type": "stream",
     "text": [
      "Initial Observation: (array([[[ 0.        ,  0.        ,  0.        ,  0.        ,\n",
      "          0.        ,  0.        ,  0.        ,  0.        ],\n",
      "        [ 0.        ,  0.        ,  0.        ,  0.        ,\n",
      "          0.        ,  0.        ,  0.        ,  0.        ],\n",
      "        [ 0.        ,  0.        ,  0.        ,  0.        ,\n",
      "          0.        ,  0.        ,  0.        ,  0.        ],\n",
      "        [ 0.        ,  0.        ,  0.        ,  0.        ,\n",
      "          0.        ,  0.        ,  0.        ,  0.        ],\n",
      "        [ 0.        ,  0.        ,  0.        ,  0.        ,\n",
      "          1.        ,  0.        ,  0.        ,  0.        ],\n",
      "        [ 0.        ,  0.        ,  0.        ,  0.        ,\n",
      "          0.        ,  0.        ,  0.        ,  0.        ],\n",
      "        [ 0.        ,  0.        ,  0.        ,  0.        ,\n",
      "          0.        ,  0.        ,  0.        ,  0.        ],\n",
      "        [ 0.        ,  0.        ,  0.        ,  0.        ,\n",
      "          0.        ,  1.        ,  0.        ,  0.        ]],\n",
      "\n",
      "       [[ 0.        ,  0.        ,  0.        ,  0.        ,\n",
      "          0.        ,  0.        ,  0.        ,  0.        ],\n",
      "        [ 0.        ,  0.        ,  0.        ,  0.        ,\n",
      "          0.        ,  0.        ,  0.        ,  0.        ],\n",
      "        [ 0.        ,  0.        ,  0.        ,  0.        ,\n",
      "          0.        ,  0.        ,  0.        ,  0.        ],\n",
      "        [ 0.        ,  0.        ,  0.        ,  0.        ,\n",
      "          0.        ,  0.        ,  0.        ,  0.        ],\n",
      "        [ 0.        ,  0.        ,  0.        ,  0.        ,\n",
      "          0.        ,  0.        ,  0.        ,  0.        ],\n",
      "        [ 0.        ,  0.        ,  0.        ,  0.        ,\n",
      "          0.        ,  0.        ,  0.        ,  0.        ],\n",
      "        [ 0.        ,  0.        ,  0.        ,  0.        ,\n",
      "          0.        ,  0.        ,  0.        ,  0.        ],\n",
      "        [ 0.        ,  0.        ,  0.        ,  0.        ,\n",
      "          0.        ,  0.18721402,  0.        ,  0.        ]],\n",
      "\n",
      "       [[ 0.        ,  0.        ,  0.        ,  0.        ,\n",
      "          0.        ,  0.        ,  0.        ,  0.        ],\n",
      "        [ 0.        ,  0.        ,  0.        ,  0.        ,\n",
      "          0.        ,  0.        ,  0.        ,  0.        ],\n",
      "        [ 0.        ,  0.        ,  0.        ,  0.        ,\n",
      "          0.        ,  0.        ,  0.        ,  0.        ],\n",
      "        [ 0.        ,  0.        ,  0.        ,  0.        ,\n",
      "          0.        ,  0.        ,  0.        ,  0.        ],\n",
      "        [ 0.        ,  0.        ,  0.        ,  0.        ,\n",
      "          0.        ,  0.        ,  0.        ,  0.        ],\n",
      "        [ 0.        ,  0.        ,  0.        ,  0.        ,\n",
      "          0.        ,  0.        ,  0.        ,  0.        ],\n",
      "        [ 0.        ,  0.        ,  0.        ,  0.        ,\n",
      "          0.        ,  0.        ,  0.        ,  0.        ],\n",
      "        [ 0.        ,  0.        ,  0.        ,  0.        ,\n",
      "          0.        ,  0.08      ,  0.        ,  0.        ]],\n",
      "\n",
      "       [[ 0.        ,  0.        ,  0.        ,  0.        ,\n",
      "          0.        ,  0.        ,  0.        ,  0.        ],\n",
      "        [ 0.        ,  0.        ,  0.        ,  0.        ,\n",
      "          0.        ,  0.        ,  0.        ,  0.        ],\n",
      "        [ 0.        ,  0.        ,  0.        ,  0.        ,\n",
      "          0.        ,  0.        ,  0.        ,  0.        ],\n",
      "        [ 0.        ,  0.        ,  0.        ,  0.        ,\n",
      "          0.        ,  0.        ,  0.        ,  0.        ],\n",
      "        [ 0.        ,  0.        ,  0.        ,  0.        ,\n",
      "          0.        ,  0.        ,  0.        ,  0.        ],\n",
      "        [ 0.        ,  0.        ,  0.        ,  0.        ,\n",
      "          0.        ,  0.        ,  0.        ,  0.        ],\n",
      "        [ 0.        ,  0.        ,  0.        ,  0.        ,\n",
      "          0.        ,  0.        ,  0.        ,  0.        ],\n",
      "        [ 0.        ,  0.        ,  0.        ,  0.        ,\n",
      "          0.        , -0.17959705,  0.        ,  0.        ]],\n",
      "\n",
      "       [[ 0.        ,  0.        ,  0.        ,  0.        ,\n",
      "          0.        ,  0.        ,  0.        ,  0.        ],\n",
      "        [ 0.        ,  0.        ,  0.        ,  0.        ,\n",
      "          0.        ,  0.        ,  0.        ,  0.        ],\n",
      "        [ 0.        ,  0.        ,  0.        ,  0.        ,\n",
      "          0.        ,  0.        ,  0.        ,  0.        ],\n",
      "        [ 0.        ,  0.        ,  0.        ,  0.        ,\n",
      "          0.        ,  0.        ,  0.        ,  0.        ],\n",
      "        [ 0.        ,  0.        ,  0.        ,  0.        ,\n",
      "          0.        ,  0.        ,  0.        ,  0.        ],\n",
      "        [ 0.        ,  0.        ,  0.        ,  0.        ,\n",
      "          0.        ,  0.        ,  0.        ,  0.        ],\n",
      "        [ 0.        ,  0.        ,  0.        ,  0.        ,\n",
      "          0.        ,  0.        ,  0.        ,  0.        ],\n",
      "        [ 0.        ,  0.        ,  0.        ,  0.        ,\n",
      "          0.        ,  0.        ,  0.        ,  0.        ]],\n",
      "\n",
      "       [[ 0.        ,  0.        ,  0.        ,  0.        ,\n",
      "          0.        ,  0.        ,  0.        ,  0.        ],\n",
      "        [ 0.        ,  0.        ,  0.        ,  0.        ,\n",
      "          0.        ,  0.        ,  0.        ,  0.        ],\n",
      "        [ 0.        ,  0.        ,  0.        ,  0.        ,\n",
      "          0.        ,  0.        ,  0.        ,  0.        ],\n",
      "        [ 0.        ,  0.        ,  0.        ,  0.        ,\n",
      "          0.        ,  0.        ,  0.        ,  0.        ],\n",
      "        [ 0.        ,  0.        ,  0.        ,  0.        ,\n",
      "          1.        ,  0.        ,  0.        ,  0.        ],\n",
      "        [ 0.        ,  0.        ,  0.        ,  0.        ,\n",
      "          0.        ,  0.        ,  0.        ,  0.        ],\n",
      "        [ 0.        ,  0.        ,  0.        ,  0.        ,\n",
      "          0.        ,  0.        ,  0.        ,  0.        ],\n",
      "        [ 0.        ,  0.        ,  0.        ,  0.        ,\n",
      "          0.        ,  1.        ,  0.        ,  0.        ]],\n",
      "\n",
      "       [[ 0.        ,  0.        ,  0.        ,  0.        ,\n",
      "          0.        ,  0.        ,  0.        ,  0.        ],\n",
      "        [ 0.        ,  0.        ,  0.        ,  0.        ,\n",
      "          0.        ,  0.        ,  0.        ,  0.        ],\n",
      "        [ 0.        ,  0.        ,  0.        ,  0.        ,\n",
      "          0.        ,  0.        ,  0.        ,  0.        ],\n",
      "        [ 0.        ,  0.        ,  0.        ,  0.        ,\n",
      "          0.        ,  0.        ,  0.        ,  0.        ],\n",
      "        [ 0.        ,  0.        ,  0.        ,  0.        ,\n",
      "          0.        ,  0.        ,  0.        ,  0.        ],\n",
      "        [ 0.        ,  0.        ,  0.        ,  0.        ,\n",
      "          0.        ,  0.        ,  0.        ,  0.        ],\n",
      "        [ 0.        ,  0.        ,  0.        ,  0.        ,\n",
      "          0.        ,  0.        ,  0.        ,  0.        ],\n",
      "        [ 0.        ,  0.        ,  0.        ,  0.        ,\n",
      "          0.        ,  0.        ,  0.        ,  0.        ]]],\n",
      "      dtype=float32), {'speed': 25, 'crashed': False, 'action': 3, 'rewards': {'collision_reward': 0.0, 'right_lane_reward': 0.3333333333333333, 'high_speed_reward': 0.5, 'on_road_reward': 1.0}})\n"
     ]
    }
   ],
   "source": [
    "# Loading the pkl configuration file\n",
    "with open(\"config.pkl\", \"rb\") as f:\n",
    "    config = pickle.load(f)\n",
    "\n",
    "# Creation of the environment \n",
    "env = gym.make(\"highway-fast-v0\", render_mode=\"rgb_array\")\n",
    "env.unwrapped.configure(config)\n",
    "obs = env.reset()\n",
    "print(\"Initial Observation:\", obs)"
   ]
  },
  {
   "cell_type": "markdown",
   "id": "588a5870",
   "metadata": {},
   "source": [
    "### Interacting with the Environment"
   ]
  },
  {
   "cell_type": "markdown",
   "id": "d0d5d47b",
   "metadata": {},
   "source": [
    "To explore the highway-fast-v0 environment, we manually take a few actions and visualize the rendered frames. We then step through the environment using the \"IDLE\" action and display the result."
   ]
  },
  {
   "cell_type": "code",
   "execution_count": 7,
   "id": "c3bbbc75",
   "metadata": {},
   "outputs": [
    {
     "data": {
      "image/png": "[encoded data removed]",
      "text/plain": [
       "<Figure size 640x480 with 1 Axes>"
      ]
     },
     "metadata": {},
     "output_type": "display_data"
    }
   ],
   "source": [
    "env = gym.make('highway-fast-v0', render_mode='rgb_array')\n",
    "env.unwrapped.configure({\n",
    "    \"observation\": {\"type\": \"Kinematics\"},\n",
    "    \"action\": {\"type\": \"DiscreteMetaAction\"}\n",
    "})\n",
    "env.reset()\n",
    "\n",
    "for _ in range(3):\n",
    "    action = env.unwrapped.action_type.actions_indexes[\"IDLE\"]\n",
    "    obs, reward, done, truncated, info = env.step(action)\n",
    "    env.render()\n",
    "\n",
    "plt.imshow(env.render())\n",
    "plt.show()"
   ]
  },
  {
   "cell_type": "markdown",
   "id": "187cb3df",
   "metadata": {},
   "source": [
    "We also try sampling random actions from the environment’s action space to observe how the vehicle responds."
   ]
  },
  {
   "cell_type": "code",
   "execution_count": 8,
   "id": "d2cda1f4",
   "metadata": {},
   "outputs": [
    {
     "data": {
      "text/plain": [
       "array([[[100, 100, 100],\n",
       "        [100, 100, 100],\n",
       "        [100, 100, 100],\n",
       "        ...,\n",
       "        [100, 100, 100],\n",
       "        [100, 100, 100],\n",
       "        [100, 100, 100]],\n",
       "\n",
       "       [[100, 100, 100],\n",
       "        [100, 100, 100],\n",
       "        [100, 100, 100],\n",
       "        ...,\n",
       "        [100, 100, 100],\n",
       "        [100, 100, 100],\n",
       "        [100, 100, 100]],\n",
       "\n",
       "       [[100, 100, 100],\n",
       "        [100, 100, 100],\n",
       "        [100, 100, 100],\n",
       "        ...,\n",
       "        [100, 100, 100],\n",
       "        [100, 100, 100],\n",
       "        [100, 100, 100]],\n",
       "\n",
       "       ...,\n",
       "\n",
       "       [[100, 100, 100],\n",
       "        [100, 100, 100],\n",
       "        [100, 100, 100],\n",
       "        ...,\n",
       "        [100, 100, 100],\n",
       "        [100, 100, 100],\n",
       "        [100, 100, 100]],\n",
       "\n",
       "       [[100, 100, 100],\n",
       "        [100, 100, 100],\n",
       "        [100, 100, 100],\n",
       "        ...,\n",
       "        [100, 100, 100],\n",
       "        [100, 100, 100],\n",
       "        [100, 100, 100]],\n",
       "\n",
       "       [[100, 100, 100],\n",
       "        [100, 100, 100],\n",
       "        [100, 100, 100],\n",
       "        ...,\n",
       "        [100, 100, 100],\n",
       "        [100, 100, 100],\n",
       "        [100, 100, 100]]], dtype=uint8)"
      ]
     },
     "execution_count": 8,
     "metadata": {},
     "output_type": "execute_result"
    }
   ],
   "source": [
    "obs, info = env.reset()\n",
    "obs, reward, terminated, truncated, info = env.step(env.action_space.sample())\n",
    "env.render()"
   ]
  },
  {
   "cell_type": "markdown",
   "id": "7ba44ce4",
   "metadata": {},
   "source": [
    "Finally, we print useful information such as the observation, reward, termination status, and additional environment metadata."
   ]
  },
  {
   "cell_type": "code",
   "execution_count": 9,
   "id": "16b89f21",
   "metadata": {},
   "outputs": [
    {
     "data": {
      "image/png": "[encoded data removed]",
      "text/plain": [
       "<Figure size 640x480 with 1 Axes>"
      ]
     },
     "metadata": {},
     "output_type": "display_data"
    },
    {
     "name": "stdout",
     "output_type": "stream",
     "text": [
      "Observation : [[ 1.          1.          0.6666667   0.37391615  0.        ]\n",
      " [ 1.          0.04475354 -0.6666667  -0.10018331  0.        ]\n",
      " [ 1.          0.14772533 -0.33333334 -0.15993886  0.        ]\n",
      " [ 1.          0.2972107  -0.33333334 -0.10320252  0.        ]\n",
      " [ 1.          0.37702075  0.         -0.19241084  0.        ]]\n",
      "Reward : 0.9976877960112223\n",
      "Terminated : False\n",
      "info : {'speed': 29.913292350420836, 'crashed': False, 'action': 2, 'rewards': {'collision_reward': 0.0, 'right_lane_reward': 1.0, 'high_speed_reward': 0.9913292350420836, 'on_road_reward': 1.0}}\n"
     ]
    }
   ],
   "source": [
    "obs, reward, terminated, truncated, info = env.step(env.action_space.sample())\n",
    "plt.imshow(env.render())\n",
    "plt.show()\n",
    "print(\"Observation : {}\".format(obs))\n",
    "print(\"Reward : {}\".format(reward))\n",
    "\n",
    "print(\"Terminated : {}\".format(terminated))\n",
    "print(\"info : {}\".format(info))"
   ]
  },
  {
   "cell_type": "code",
   "execution_count": 10,
   "id": "7f61c48d",
   "metadata": {},
   "outputs": [
    {
     "data": {
      "image/png": "[encoded data removed]",
      "text/plain": [
       "<Figure size 640x480 with 1 Axes>"
      ]
     },
     "metadata": {},
     "output_type": "display_data"
    },
    {
     "name": "stdout",
     "output_type": "stream",
     "text": [
      "Observation : [[ 1.          1.          0.6666667   0.32058772  0.        ]\n",
      " [ 1.          0.01601295 -0.6666667  -0.04940082  0.        ]\n",
      " [ 1.          0.09532988 -0.33333334 -0.1066784   0.        ]\n",
      " [ 1.          0.26718804 -0.33333334 -0.05623446  0.        ]\n",
      " [ 1.          0.3088244   0.         -0.15512328  0.        ]]\n",
      "Reward : 0.8839204779383776\n",
      "Terminated : False\n",
      "info : {'speed': 25.647017922689162, 'crashed': False, 'action': 4, 'rewards': {'collision_reward': 0.0, 'right_lane_reward': 1.0, 'high_speed_reward': 0.5647017922689163, 'on_road_reward': 1.0}}\n"
     ]
    }
   ],
   "source": [
    "obs, reward, terminated, truncated, info = env.step(env.action_space.sample())\n",
    "plt.imshow(env.render())\n",
    "plt.show()\n",
    "print(\"Observation : {}\".format(obs))\n",
    "print(\"Reward : {}\".format(reward))\n",
    "\n",
    "print(\"Terminated : {}\".format(terminated))\n",
    "print(\"info : {}\".format(info))"
   ]
  },
  {
   "cell_type": "markdown",
   "id": "b833ecec",
   "metadata": {},
   "source": [
    "### Exploring the Action and Observation Spaces"
   ]
  },
  {
   "cell_type": "markdown",
   "id": "30e8555c",
   "metadata": {},
   "source": [
    "To better understand the environment, we inspect its configuration, action space, and observation space."
   ]
  },
  {
   "cell_type": "code",
   "execution_count": 11,
   "id": "b3aa5d19",
   "metadata": {},
   "outputs": [
    {
     "name": "stdout",
     "output_type": "stream",
     "text": [
      "{'action': {'type': 'DiscreteMetaAction'},\n",
      " 'centering_position': [0.3, 0.5],\n",
      " 'collision_reward': -1,\n",
      " 'controlled_vehicles': 1,\n",
      " 'duration': 30,\n",
      " 'ego_spacing': 1.5,\n",
      " 'high_speed_reward': 0.4,\n",
      " 'initial_lane_id': None,\n",
      " 'lane_change_reward': 0,\n",
      " 'lanes_count': 3,\n",
      " 'manual_control': False,\n",
      " 'normalize_reward': True,\n",
      " 'observation': {'type': 'Kinematics'},\n",
      " 'offroad_terminal': False,\n",
      " 'offscreen_rendering': False,\n",
      " 'other_vehicles_type': 'highway_env.vehicle.behavior.IDMVehicle',\n",
      " 'policy_frequency': 1,\n",
      " 'real_time_rendering': False,\n",
      " 'render_agent': True,\n",
      " 'reward_speed_range': [20, 30],\n",
      " 'right_lane_reward': 0.1,\n",
      " 'scaling': 5.5,\n",
      " 'screen_height': 150,\n",
      " 'screen_width': 600,\n",
      " 'show_trajectories': False,\n",
      " 'simulation_frequency': 5,\n",
      " 'vehicles_count': 20,\n",
      " 'vehicles_density': 1}\n"
     ]
    }
   ],
   "source": [
    "import pprint\n",
    "pprint.pprint(env.unwrapped.config)"
   ]
  },
  {
   "cell_type": "markdown",
   "id": "836ef799",
   "metadata": {},
   "source": [
    "We check if the action space is discrete or continuous and retrieve useful attributes accordingly. The same logic applies to the observation space."
   ]
  },
  {
   "cell_type": "code",
   "execution_count": 12,
   "id": "d5b6fb4a",
   "metadata": {},
   "outputs": [
    {
     "name": "stdout",
     "output_type": "stream",
     "text": [
      "Action Space: Discrete(5)\n",
      "Action Space Type: <class 'gymnasium.spaces.discrete.Discrete'>\n",
      "Number of Actions: 5\n",
      "\n",
      "Observation Space: Box(-inf, inf, (5, 5), float32)\n",
      "Observation Space Type: <class 'gymnasium.spaces.box.Box'>\n",
      "State Bounds: [[-inf -inf -inf -inf -inf]\n",
      " [-inf -inf -inf -inf -inf]\n",
      " [-inf -inf -inf -inf -inf]\n",
      " [-inf -inf -inf -inf -inf]\n",
      " [-inf -inf -inf -inf -inf]] [[inf inf inf inf inf]\n",
      " [inf inf inf inf inf]\n",
      " [inf inf inf inf inf]\n",
      " [inf inf inf inf inf]\n",
      " [inf inf inf inf inf]]\n"
     ]
    }
   ],
   "source": [
    "# Actions\n",
    "print(\"Action Space:\", env.action_space)\n",
    "print(\"Action Space Type:\", type(env.action_space))\n",
    "if isinstance(env.action_space, gym.spaces.Discrete):\n",
    "    print(\"Number of Actions:\", env.action_space.n)\n",
    "elif isinstance(env.action_space, gym.spaces.Box):\n",
    "    print(\"Action Bounds:\", env.action_space.low, env.action_space.high)\n",
    "\n",
    "# States\n",
    "print(\"\\nObservation Space:\", env.observation_space)\n",
    "print(\"Observation Space Type:\", type(env.observation_space))\n",
    "if isinstance(env.observation_space, gym.spaces.Discrete):\n",
    "    print(\"Number of States:\", env.observation_space.n)\n",
    "elif isinstance(env.observation_space, gym.spaces.Box):\n",
    "    print(\"State Bounds:\", env.observation_space.low, env.observation_space.high)\n",
    "\n",
    "# Adjusting for continuous action space\n",
    "if isinstance(env.action_space, gym.spaces.Box):\n",
    "    print(\"\\nAction Space is continuous.\")\n",
    "    print(\"Action Dimensionality:\", env.action_space.shape[0])\n"
   ]
  },
  {
   "cell_type": "code",
   "execution_count": 13,
   "id": "4df7bc30",
   "metadata": {},
   "outputs": [
    {
     "name": "stdout",
     "output_type": "stream",
     "text": [
      "{'action': {'type': 'DiscreteMetaAction'},\n",
      " 'centering_position': [0.3, 0.5],\n",
      " 'collision_reward': -1,\n",
      " 'controlled_vehicles': 1,\n",
      " 'duration': 30,\n",
      " 'ego_spacing': 1.5,\n",
      " 'high_speed_reward': 0.4,\n",
      " 'initial_lane_id': None,\n",
      " 'lane_change_reward': 0,\n",
      " 'lanes_count': 3,\n",
      " 'manual_control': False,\n",
      " 'normalize_reward': True,\n",
      " 'observation': {'type': 'Kinematics'},\n",
      " 'offroad_terminal': False,\n",
      " 'offscreen_rendering': False,\n",
      " 'other_vehicles_type': 'highway_env.vehicle.behavior.IDMVehicle',\n",
      " 'policy_frequency': 1,\n",
      " 'real_time_rendering': False,\n",
      " 'render_agent': True,\n",
      " 'reward_speed_range': [20, 30],\n",
      " 'right_lane_reward': 0.1,\n",
      " 'scaling': 5.5,\n",
      " 'screen_height': 150,\n",
      " 'screen_width': 600,\n",
      " 'show_trajectories': False,\n",
      " 'simulation_frequency': 5,\n",
      " 'vehicles_count': 20,\n",
      " 'vehicles_density': 1}\n"
     ]
    }
   ],
   "source": [
    "pprint.pprint(env.unwrapped.config)"
   ]
  },
  {
   "cell_type": "markdown",
   "id": "bb78faad",
   "metadata": {},
   "source": [
    "### Manually Driving the Agent"
   ]
  },
  {
   "cell_type": "markdown",
   "id": "0950675c",
   "metadata": {},
   "source": [
    "We then test how the agent behaves when we manually provide a series of actions such as \"FASTER\" and \"LANE_LEFT\". At each step, we render the environment to visualize the vehicle’s position and behavior.If the episode ends early due to a collision or completion, the environment is reset. This interactive phase helps us confirm that the environment behaves as expected before implementing a learning agent."
   ]
  },
  {
   "cell_type": "code",
   "execution_count": null,
   "id": "1ae30cf5",
   "metadata": {},
   "outputs": [
    {
     "data": {
      "image/png": "[encoded data removed]",
      "text/plain": [
       "<Figure size 640x480 with 1 Axes>"
      ]
     },
     "metadata": {},
     "output_type": "display_data"
    }
   ],
   "source": [
    "import matplotlib.pyplot as plt\n",
    "from IPython.display import clear_output\n",
    "\n",
    "# Reset the environment\n",
    "observation, _ = env.reset()\n",
    "\n",
    "actions = [\n",
    "    env.unwrapped.action_type.actions_indexes[\"IDLE\"],\n",
    "    env.unwrapped.action_type.actions_indexes[\"FASTER\"],\n",
    "    env.unwrapped.action_type.actions_indexes[\"LANE_LEFT\"],\n",
    "    env.unwrapped.action_type.actions_indexes[\"LANE_RIGHT\"],\n",
    "    env.unwrapped.action_type.actions_indexes[\"IDLE\"],\n",
    "] * 2  # 10 steps total\n",
    "\n",
    "lista = []\n",
    "\n",
    "for step in range(10):\n",
    "    action = actions[step % len(actions)]\n",
    "    observation, reward, terminated, truncated, info = env.step(action)\n",
    "    lista.append(observation)\n",
    "\n",
    "    # Affichage\n",
    "    clear_output(wait=True)\n",
    "    plt.imshow(env.render())\n",
    "    plt.title(f\"Step: {step + 1}\")\n",
    "    plt.axis(\"off\")\n",
    "    plt.show()\n",
    "\n",
    "    if terminated or truncated:\n",
    "        print(\"Episode ended after this step. Resetting environment.\")\n",
    "        observation, _ = env.reset()\n",
    "\n",
    "# Fermer l'environnement\n",
    "env.close()\n"
   ]
  },
  {
   "cell_type": "markdown",
   "id": "19434d19",
   "metadata": {},
   "source": [
    "### DQN Agent in Highway-fast-v0 Environment"
   ]
  },
  {
   "cell_type": "markdown",
   "id": "11d4535e",
   "metadata": {},
   "source": [
    "We begin by setting up the environment using a pre-saved configuration file (config.pkl). This configuration sets the observation space to OccupancyGrid and uses DiscreteMetaAction for control. We implement a RandomAgent to act randomly and establish a performance baseline. It helps confirm that our environment is working and sets a benchmark for training later. We evaluate the random agent with visual rendering and reward aggregation."
   ]
  },
  {
   "cell_type": "code",
   "execution_count": 15,
   "id": "da0facc0",
   "metadata": {},
   "outputs": [
    {
     "data": {
      "image/png": "[encoded data removed]",
      "text/plain": [
       "<Figure size 640x480 with 1 Axes>"
      ]
     },
     "metadata": {},
     "output_type": "display_data"
    },
    {
     "name": "stdout",
     "output_type": "stream",
     "text": [
      "Episode total reward: 4.11215440666686\n",
      "Average over 5 runs : 6.366447906660378\n"
     ]
    }
   ],
   "source": [
    "# Définir un agent aléatoire\n",
    "class RandomAgent:\n",
    "    def __init__(self, observation_space, action_space):\n",
    "        self.action_space = action_space\n",
    "        \n",
    "    def get_action(self, state):\n",
    "        return self.action_space.sample()\n",
    "    \n",
    "    def update(self, *data):\n",
    "        pass\n",
    "\n",
    "agent = RandomAgent(env.observation_space, env.action_space)\n",
    "\n",
    "# Fonction d'évaluation sur plusieurs épisodes\n",
    "def eval_agent(agent, env, n_sim=5):\n",
    "    env_copy = deepcopy(env)\n",
    "    episode_rewards = np.zeros(n_sim)\n",
    "    for i in range(n_sim):\n",
    "        state, _ = env_copy.reset()\n",
    "        reward_sum = 0\n",
    "        done = False\n",
    "        while not done: \n",
    "            action = agent.get_action(state)\n",
    "            state, reward, terminated, truncated, _ = env_copy.step(action)\n",
    "            reward_sum += reward\n",
    "            done = terminated or truncated\n",
    "        episode_rewards[i] = reward_sum\n",
    "    return episode_rewards\n",
    "\n",
    "# Exécution d'un seul épisode avec affichage\n",
    "def run_one_episode(env, agent, display=True):        \n",
    "    display_env = deepcopy(env)        \n",
    "    done = False  \n",
    "    state, _ = display_env.reset()        \n",
    "    rewards = 0        \n",
    "\n",
    "    while not done:        \n",
    "        action = agent.get_action(state)        \n",
    "        state, reward, terminated, truncated, _ = display_env.step(action)    \n",
    "        rewards += reward        \n",
    "        done = terminated or truncated\n",
    "        \n",
    "        if display:         \n",
    "            clear_output(wait=True)        \n",
    "            plt.imshow(display_env.render())        \n",
    "            plt.axis(\"off\")\n",
    "            plt.title(\"Simulation\")\n",
    "            plt.show()        \n",
    "            \n",
    "    if display:        \n",
    "        display_env.close()        \n",
    "    print(f'Episode total reward: {rewards}')        \n",
    "\n",
    "# Lancer un épisode\n",
    "run_one_episode(env, agent, display=True)\n",
    "\n",
    "# Évaluer sur 5 épisodes\n",
    "print(f'Average over 5 runs : {np.mean(eval_agent(agent, env))}') "
   ]
  },
  {
   "cell_type": "markdown",
   "id": "103a2145",
   "metadata": {},
   "source": [
    "We implement our own Deep Q-Network (DQN) agent using PyTorch. The agent uses:\n",
    "\n",
    "    1-A ReplayBuffer for stable learning\n",
    "\n",
    "    2-An epsilon-greedy exploration policy\n",
    "\n",
    "    3-A target network updated every few steps\n",
    "\n",
    "We set key hyperparameters:\n",
    "\n",
    "    gamma = 0.99\n",
    "\n",
    "    batch_size = 64\n",
    "\n",
    "    buffer_capacity = 10,000\n",
    "\n",
    "    epsilon decay\n",
    "\n",
    "    update_target_every = 512\n",
    "\n",
    "Then train over 1200 episodes"
   ]
  },
  {
   "cell_type": "code",
   "execution_count": 16,
   "id": "498eac74",
   "metadata": {},
   "outputs": [
    {
     "name": "stderr",
     "output_type": "stream",
     "text": [
      "C:\\Users\\tonya\\AppData\\Local\\Temp\\ipykernel_2928\\46243299.py:80: UserWarning: Casting complex values to real discards the imaginary part (Triggered internally at C:\\actions-runner\\_work\\pytorch\\pytorch\\builder\\windows\\pytorch\\aten\\src\\ATen\\native\\Copy.cpp:308.)\n",
      "  reward_tensor = torch.tensor([reward]).float()\n"
     ]
    },
    {
     "name": "stdout",
     "output_type": "stream",
     "text": [
      "Episode 10, Epsilon 0.986, Last loss: 15.425\n",
      "Episode 20, Epsilon 0.977, Last loss: 10.701\n",
      "Episode 30, Epsilon 0.968, Last loss: 16.650\n",
      "Episode 40, Epsilon 0.959, Last loss: 15.576\n",
      "Episode 50, Epsilon 0.950, Last loss: 13.935\n",
      "Episode 60, Epsilon 0.940, Last loss: 12.152\n",
      "Episode 70, Epsilon 0.931, Last loss: 10.717\n",
      "Episode 80, Epsilon 0.923, Last loss: 7.190\n",
      "Episode 90, Epsilon 0.914, Last loss: 15.390\n",
      "Episode 100, Epsilon 0.906, Last loss: 11.930\n",
      "Episode 110, Epsilon 0.897, Last loss: 19.138\n",
      "Episode 120, Epsilon 0.888, Last loss: 13.764\n",
      "Episode 130, Epsilon 0.880, Last loss: 7.720\n",
      "Episode 140, Epsilon 0.871, Last loss: 9.092\n",
      "Episode 150, Epsilon 0.863, Last loss: 9.355\n",
      "Episode 160, Epsilon 0.855, Last loss: 14.282\n",
      "Episode 170, Epsilon 0.847, Last loss: 4.814\n",
      "Episode 180, Epsilon 0.839, Last loss: 17.149\n",
      "Episode 190, Epsilon 0.832, Last loss: 9.105\n",
      "Episode 200, Epsilon 0.824, Last loss: 12.861\n",
      "Episode 210, Epsilon 0.816, Last loss: 17.081\n",
      "Episode 220, Epsilon 0.808, Last loss: 19.916\n",
      "Episode 230, Epsilon 0.800, Last loss: 9.310\n",
      "Episode 240, Epsilon 0.793, Last loss: 15.641\n",
      "Episode 250, Epsilon 0.787, Last loss: 14.320\n",
      "Episode 260, Epsilon 0.780, Last loss: 14.801\n",
      "Episode 270, Epsilon 0.772, Last loss: 29.211\n",
      "Episode 280, Epsilon 0.765, Last loss: 25.369\n",
      "Episode 290, Epsilon 0.758, Last loss: 25.122\n",
      "Episode 300, Epsilon 0.750, Last loss: 22.825\n",
      "Episode 310, Epsilon 0.745, Last loss: 16.458\n",
      "Episode 320, Epsilon 0.738, Last loss: 13.618\n",
      "Episode 330, Epsilon 0.731, Last loss: 11.013\n",
      "Episode 340, Epsilon 0.724, Last loss: 18.079\n",
      "Episode 350, Epsilon 0.717, Last loss: 28.203\n",
      "Episode 360, Epsilon 0.711, Last loss: 24.777\n",
      "Episode 370, Epsilon 0.705, Last loss: 8.981\n",
      "Episode 380, Epsilon 0.698, Last loss: 22.043\n",
      "Episode 390, Epsilon 0.692, Last loss: 12.349\n",
      "Episode 400, Epsilon 0.685, Last loss: 31.935\n",
      "Episode 410, Epsilon 0.680, Last loss: 16.069\n",
      "Episode 420, Epsilon 0.675, Last loss: 27.312\n",
      "Episode 430, Epsilon 0.668, Last loss: 37.102\n",
      "Episode 440, Epsilon 0.663, Last loss: 24.222\n",
      "Episode 450, Epsilon 0.658, Last loss: 23.437\n",
      "Episode 460, Epsilon 0.653, Last loss: 20.622\n",
      "Episode 470, Epsilon 0.646, Last loss: 18.783\n",
      "Episode 480, Epsilon 0.642, Last loss: 15.746\n",
      "Episode 490, Epsilon 0.636, Last loss: 17.803\n",
      "Episode 500, Epsilon 0.631, Last loss: 13.536\n",
      "Episode 510, Epsilon 0.628, Last loss: 23.827\n",
      "Episode 520, Epsilon 0.622, Last loss: 31.546\n",
      "Episode 530, Epsilon 0.618, Last loss: 31.156\n",
      "Episode 540, Epsilon 0.613, Last loss: 22.428\n",
      "Episode 550, Epsilon 0.609, Last loss: 20.835\n",
      "Episode 560, Epsilon 0.604, Last loss: 26.010\n",
      "Episode 570, Epsilon 0.601, Last loss: 14.246\n",
      "Episode 580, Epsilon 0.596, Last loss: 13.134\n",
      "Episode 590, Epsilon 0.594, Last loss: 22.598\n",
      "Episode 600, Epsilon 0.590, Last loss: 20.047\n",
      "Episode 610, Epsilon 0.586, Last loss: 10.901\n",
      "Episode 620, Epsilon 0.581, Last loss: 21.649\n",
      "Episode 630, Epsilon 0.577, Last loss: 18.858\n",
      "Episode 640, Epsilon 0.573, Last loss: 18.758\n",
      "Episode 650, Epsilon 0.569, Last loss: 18.959\n",
      "Episode 660, Epsilon 0.566, Last loss: 31.267\n",
      "Episode 670, Epsilon 0.564, Last loss: 17.932\n",
      "Episode 680, Epsilon 0.561, Last loss: 14.279\n",
      "Episode 690, Epsilon 0.557, Last loss: 11.177\n",
      "Episode 700, Epsilon 0.555, Last loss: 23.993\n",
      "Episode 710, Epsilon 0.553, Last loss: 27.080\n",
      "Episode 720, Epsilon 0.548, Last loss: 24.364\n",
      "Episode 730, Epsilon 0.545, Last loss: 16.772\n",
      "Episode 740, Epsilon 0.543, Last loss: 12.074\n",
      "Episode 750, Epsilon 0.539, Last loss: 13.831\n",
      "Episode 760, Epsilon 0.535, Last loss: 39.457\n",
      "Episode 770, Epsilon 0.532, Last loss: 12.391\n",
      "Episode 780, Epsilon 0.529, Last loss: 15.336\n",
      "Episode 790, Epsilon 0.527, Last loss: 13.388\n",
      "Episode 800, Epsilon 0.523, Last loss: 13.026\n",
      "Episode 810, Epsilon 0.521, Last loss: 37.147\n",
      "Episode 820, Epsilon 0.519, Last loss: 28.703\n",
      "Episode 830, Epsilon 0.516, Last loss: 29.250\n",
      "Episode 840, Epsilon 0.512, Last loss: 15.887\n",
      "Episode 850, Epsilon 0.510, Last loss: 35.040\n",
      "Episode 860, Epsilon 0.508, Last loss: 45.349\n",
      "Episode 870, Epsilon 0.506, Last loss: 34.747\n",
      "Episode 880, Epsilon 0.502, Last loss: 14.067\n",
      "Episode 890, Epsilon 0.499, Last loss: 23.795\n",
      "Episode 900, Epsilon 0.497, Last loss: 22.141\n",
      "Episode 910, Epsilon 0.494, Last loss: 5.756\n",
      "Episode 920, Epsilon 0.494, Last loss: 18.423\n",
      "Episode 930, Epsilon 0.490, Last loss: 26.635\n",
      "Episode 940, Epsilon 0.488, Last loss: 43.718\n",
      "Episode 950, Epsilon 0.484, Last loss: 5.599\n",
      "Episode 960, Epsilon 0.481, Last loss: 11.434\n",
      "Episode 970, Epsilon 0.481, Last loss: 23.742\n",
      "Episode 980, Epsilon 0.479, Last loss: 4.868\n",
      "Episode 990, Epsilon 0.477, Last loss: 40.931\n",
      "Episode 1000, Epsilon 0.474, Last loss: 10.560\n",
      "Episode 1010, Epsilon 0.471, Last loss: 21.247\n",
      "Episode 1020, Epsilon 0.468, Last loss: 23.261\n",
      "Episode 1030, Epsilon 0.467, Last loss: 18.692\n",
      "Episode 1040, Epsilon 0.465, Last loss: 49.255\n",
      "Episode 1050, Epsilon 0.463, Last loss: 43.711\n",
      "Episode 1060, Epsilon 0.462, Last loss: 35.723\n",
      "Episode 1070, Epsilon 0.460, Last loss: 47.468\n",
      "Episode 1080, Epsilon 0.459, Last loss: 95.141\n",
      "Episode 1090, Epsilon 0.456, Last loss: 48.572\n",
      "Episode 1100, Epsilon 0.453, Last loss: 45.408\n",
      "Episode 1110, Epsilon 0.452, Last loss: 54.103\n",
      "Episode 1120, Epsilon 0.450, Last loss: 12.716\n",
      "Episode 1130, Epsilon 0.449, Last loss: 32.466\n",
      "Episode 1140, Epsilon 0.447, Last loss: 48.794\n",
      "Episode 1150, Epsilon 0.445, Last loss: 9.315\n",
      "Episode 1160, Epsilon 0.442, Last loss: 85.797\n",
      "Episode 1170, Epsilon 0.441, Last loss: 20.562\n",
      "Episode 1180, Epsilon 0.440, Last loss: 20.325\n",
      "Episode 1190, Epsilon 0.439, Last loss: 14.501\n",
      "Episode 1200, Epsilon 0.437, Last loss: 43.256\n",
      "Average reward over 5 eval episodes: 20.73\n"
     ]
    }
   ],
   "source": [
    "# Définir le replay buffer\n",
    "class ReplayBuffer:\n",
    "    def __init__(self, capacity):\n",
    "        self.capacity = capacity\n",
    "        self.memory = []\n",
    "        self.index = 0\n",
    "\n",
    "    def push(self, *args):\n",
    "        if len(self.memory) < self.capacity:\n",
    "            self.memory.append(None)\n",
    "        self.memory[self.index] = args\n",
    "        self.index = (self.index + 1) % self.capacity\n",
    "\n",
    "    def sample(self, batch_size):\n",
    "        return random.sample(self.memory, batch_size)\n",
    "\n",
    "    def __len__(self):\n",
    "        return len(self.memory)\n",
    "\n",
    "# Réseau de neurones\n",
    "class Net(nn.Module):\n",
    "    def __init__(self, obs_size, hidden_size1, hidden_size2, n_actions):\n",
    "        super(Net, self).__init__()\n",
    "        self.net = nn.Sequential(\n",
    "            nn.Linear(obs_size, hidden_size1),\n",
    "            nn.ReLU(),\n",
    "            nn.Linear(hidden_size1, hidden_size2),\n",
    "            nn.ReLU(),\n",
    "            nn.Linear(hidden_size2, n_actions)\n",
    "        )\n",
    "\n",
    "    def forward(self, x):\n",
    "        return self.net(x)\n",
    "\n",
    "# Agent DQN\n",
    "class DQN:\n",
    "    def __init__(self, action_space, observation_space, gamma, batch_size, buffer_capacity,\n",
    "                 update_target_every, epsilon_start, decrease_epsilon_factor, epsilon_min, learning_rate):\n",
    "        \n",
    "        self.action_space = action_space\n",
    "        self.observation_space = observation_space\n",
    "        self.gamma = gamma\n",
    "        self.batch_size = batch_size\n",
    "        self.buffer_capacity = buffer_capacity\n",
    "        self.update_target_every = update_target_every\n",
    "        self.epsilon_start = epsilon_start\n",
    "        self.decrease_epsilon_factor = decrease_epsilon_factor\n",
    "        self.epsilon_min = epsilon_min\n",
    "        self.learning_rate = learning_rate\n",
    "        self.reset()\n",
    "\n",
    "    def reset(self):\n",
    "        hidden_size = 128\n",
    "        obs_shape = self.observation_space.shape\n",
    "        obs_size = np.prod(obs_shape)  # e.g. (5, 5, 7) => 175\n",
    "        n_actions = self.action_space.n\n",
    "        self.buffer = ReplayBuffer(self.buffer_capacity)\n",
    "        self.q_net = Net(obs_size, hidden_size, hidden_size, n_actions)\n",
    "        self.target_net = Net(obs_size, hidden_size, hidden_size, n_actions)\n",
    "        self.target_net.load_state_dict(self.q_net.state_dict())\n",
    "        self.loss_function = nn.MSELoss()\n",
    "        self.optimizer = optim.Adam(self.q_net.parameters(), lr=self.learning_rate)\n",
    "        self.epsilon = self.epsilon_start\n",
    "        self.n_steps = 0\n",
    "        self.n_eps = 0\n",
    "\n",
    "    def get_action(self, state):\n",
    "        if np.random.rand() < self.epsilon:\n",
    "            return self.action_space.sample()\n",
    "        return self.get_best_action(state)\n",
    "\n",
    "    def get_best_action(self, state):\n",
    "        state = torch.tensor(state).float().flatten().unsqueeze(0)\n",
    "        q_values = self.q_net(state)\n",
    "        return torch.argmax(q_values).item()\n",
    "\n",
    "    def update(self, state, action, reward, terminated, next_state):\n",
    "        state_tensor = torch.tensor(state).float().unsqueeze(0)\n",
    "        action_tensor = torch.tensor([[action]], dtype=torch.int64)\n",
    "        reward_tensor = torch.tensor([reward]).float()\n",
    "        terminated_tensor = torch.tensor([terminated], dtype=torch.float32)\n",
    "        next_state_tensor = torch.tensor(next_state).float().unsqueeze(0)\n",
    "        self.buffer.push(state_tensor, action_tensor, reward_tensor, terminated_tensor, next_state_tensor)\n",
    "\n",
    "        if len(self.buffer) < self.batch_size:\n",
    "            return np.inf\n",
    "\n",
    "        transitions = self.buffer.sample(self.batch_size)\n",
    "        state_batch, action_batch, reward_batch, terminated_batch, next_state_batch = tuple(\n",
    "            [torch.cat(items) for items in zip(*transitions)]\n",
    "        )\n",
    "\n",
    "        state_batch = state_batch.view(state_batch.size(0), -1)\n",
    "        next_state_batch = next_state_batch.view(next_state_batch.size(0), -1)\n",
    "        action_batch = action_batch.long().squeeze()\n",
    "        if action_batch.ndim == 1:\n",
    "            action_batch = action_batch.unsqueeze(1)\n",
    "\n",
    "        q_values = self.q_net(state_batch)\n",
    "        values = q_values.gather(1, action_batch)\n",
    "\n",
    "        with torch.no_grad():\n",
    "            next_q = self.target_net(next_state_batch).max(1)[0]\n",
    "            targets = reward_batch + (1 - terminated_batch) * self.gamma * next_q\n",
    "\n",
    "        loss = self.loss_function(values, targets.unsqueeze(1))\n",
    "        self.optimizer.zero_grad()\n",
    "        loss.backward()\n",
    "        for param in self.q_net.parameters():\n",
    "            param.grad.data.clamp_(-1, 1)\n",
    "        self.optimizer.step()\n",
    "\n",
    "        if (self.n_steps + 1) % self.update_target_every == 0:\n",
    "            self.target_net.load_state_dict(self.q_net.state_dict())\n",
    "\n",
    "        self.decrease_epsilon()\n",
    "        self.n_steps += 1\n",
    "        if terminated:\n",
    "            self.n_eps += 1\n",
    "\n",
    "        return loss.detach().numpy()\n",
    "\n",
    "    def decrease_epsilon(self):\n",
    "        self.epsilon = self.epsilon_min + (self.epsilon_start - self.epsilon_min) * np.exp(-1. * self.n_eps / self.decrease_epsilon_factor)\n",
    "\n",
    "# Fonction d'évaluation\n",
    "def eval_agent(agent, env, n_sim=5):\n",
    "    env_copy = deepcopy(env)\n",
    "    episode_rewards = np.zeros(n_sim)\n",
    "    for i in range(n_sim):\n",
    "        state, _ = env_copy.reset()\n",
    "        reward_sum = 0\n",
    "        done = False\n",
    "        while not done:\n",
    "            action = agent.get_best_action(state)\n",
    "            state, reward, terminated, truncated, _ = env_copy.step(action)\n",
    "            reward_sum += reward\n",
    "            done = terminated or truncated\n",
    "        episode_rewards[i] = reward_sum\n",
    "    return episode_rewards\n",
    "\n",
    "# Fonction d'entraînement\n",
    "def train(env, agent, N_episodes, eval_every=10):\n",
    "    state, _ = env.reset()\n",
    "    losses = []\n",
    "    for ep in range(N_episodes):\n",
    "        state, _ = env.reset()\n",
    "        done = False\n",
    "        while not done:\n",
    "            action = agent.get_action(state)\n",
    "            next_state, reward, terminated, truncated, info = env.step(action)\n",
    "            reward += (info[\"speed\"]/5 - 4.5) ** 2.5 - terminated * 10\n",
    "            loss_val = agent.update(state, action, reward, terminated, next_state)\n",
    "            state = next_state\n",
    "            done = terminated or truncated\n",
    "            losses.append(loss_val)\n",
    "        if (ep + 1) % 10 == 0:\n",
    "            print(f\"Episode {ep+1}, Epsilon {agent.epsilon:.3f}, Last loss: {losses[-1]:.3f}\")\n",
    "    return losses\n",
    "\n",
    "# Hyperparams\n",
    "arguments = (\n",
    "    env.action_space,\n",
    "    env.observation_space,\n",
    "    gamma := 0.99,\n",
    "    batch_size := 64,\n",
    "    buffer_capacity := 10000,\n",
    "    update_target_every := 512,\n",
    "    epsilon_start := 0.99,\n",
    "    decrease_epsilon_factor := 1000,\n",
    "    epsilon_min := 0.03,\n",
    "    learning_rate := 5e-4,\n",
    ")\n",
    "\n",
    "# Entraînement\n",
    "agent = DQN(*arguments)\n",
    "losses = train(env, agent, N_episodes := 1200)\n",
    "\n",
    "# Évaluation finale\n",
    "print(f\"Average reward over 5 eval episodes: {np.mean(eval_agent(agent, env)):.2f}\")"
   ]
  },
  {
   "cell_type": "code",
   "execution_count": 17,
   "id": "b3a347da",
   "metadata": {},
   "outputs": [
    {
     "name": "stderr",
     "output_type": "stream",
     "text": [
      "C:\\Users\\tonya\\AppData\\Local\\Temp\\ipykernel_2928\\2505456253.py:14: FutureWarning: You are using `torch.load` with `weights_only=False` (the current default value), which uses the default pickle module implicitly. It is possible to construct malicious pickle data which will execute arbitrary code during unpickling (See https://github.com/pytorch/pytorch/blob/main/SECURITY.md#untrusted-models for more details). In a future release, the default value for `weights_only` will be flipped to `True`. This limits the functions that could be executed during unpickling. Arbitrary objects will no longer be allowed to be loaded via this mode unless they are explicitly allowlisted by the user via `torch.serialization.add_safe_globals`. We recommend you start setting `weights_only=True` for any use case where you don't have full control of the loaded file. Please open an issue on GitHub for any issues related to this experimental feature.\n",
      "  loaded_model.load_state_dict(torch.load('model_weights_2.pth'))\n"
     ]
    },
    {
     "data": {
      "image/png": "[encoded data removed]",
      "text/plain": [
       "<Figure size 1000x400 with 1 Axes>"
      ]
     },
     "metadata": {},
     "output_type": "display_data"
    }
   ],
   "source": [
    "import copy\n",
    "import torch\n",
    "import matplotlib.pyplot as plt\n",
    "import numpy as np\n",
    "\n",
    "# 1. Sauvegarde du modèle entraîné\n",
    "model = agent.q_net\n",
    "torch.save(model.state_dict(), 'model_weights_2.pth')\n",
    "\n",
    "# 2. Chargement du modèle dans une nouvelle instance\n",
    "obs_size = np.prod(env.observation_space.shape)  # Exemple : 5x5x7 = 175\n",
    "n_actions = env.action_space.n\n",
    "loaded_model = Net(obs_size, 128, 128, n_actions)\n",
    "loaded_model.load_state_dict(torch.load('model_weights_2.pth'))\n",
    "loaded_model.eval()\n",
    "\n",
    "# 3. Gestion robuste des listes de pertes\n",
    "try:\n",
    "    loses_old = copy.deepcopy(loses2)\n",
    "except NameError:\n",
    "    loses_old = []\n",
    "\n",
    "try:\n",
    "    loses1 = copy.deepcopy(losses)\n",
    "except NameError:\n",
    "    loses1 = []\n",
    "\n",
    "# Nouvelle session d'entraînement\n",
    "# (On suppose que 'losses' vient juste d’être mise à jour)\n",
    "try:\n",
    "    loses2 = loses1 + losses\n",
    "except NameError:\n",
    "    loses2 = loses1\n",
    "\n",
    "# 4. Affichage de la courbe de perte cumulée\n",
    "plt.figure(figsize=(10, 4))\n",
    "plt.plot(loses_old + loses1 + losses)\n",
    "plt.title(\"Évolution cumulée de la perte\")\n",
    "plt.xlabel(\"Étapes\")\n",
    "plt.ylabel(\"Loss\")\n",
    "plt.grid(True)\n",
    "plt.show()\n"
   ]
  },
  {
   "cell_type": "code",
   "execution_count": 18,
   "id": "73091f2f",
   "metadata": {},
   "outputs": [
    {
     "data": {
      "image/png": "[encoded data removed]",
      "text/plain": [
       "<Figure size 640x480 with 1 Axes>"
      ]
     },
     "metadata": {},
     "output_type": "display_data"
    }
   ],
   "source": [
    "import numpy as np\n",
    "import matplotlib.pyplot as plt\n",
    "\n",
    "epsilon_start = 0.9\n",
    "decrease_epsilon_factor = 1000\n",
    "epsilon_min = 0.05\n",
    "n_eps = np.arange(1000)  # Assuming you have 10,000 episodes\n",
    "\n",
    "epsilon = epsilon_min + (epsilon_start - epsilon_min) * (\n",
    "                        np.exp(-1. * n_eps / decrease_epsilon_factor))\n",
    "\n",
    "plt.plot(n_eps, epsilon)\n",
    "plt.xlabel('Number of Episodes')\n",
    "plt.ylabel('Epsilon Value')\n",
    "plt.title('Epsilon Decay Over Episodes')\n",
    "plt.grid(True)\n",
    "plt.show()"
   ]
  },
  {
   "cell_type": "code",
   "execution_count": 19,
   "id": "2aafb102",
   "metadata": {},
   "outputs": [],
   "source": [
    "agent.epsilon = 0.08\n",
    "def eval_agent(agent, env, n_sim=5):\n",
    "    env_copy = deepcopy(env)\n",
    "    episode_rewards = np.zeros(n_sim)\n",
    "    for i in range(n_sim):\n",
    "        state, _ = env_copy.reset()\n",
    "        reward_sum = 0\n",
    "        done = False\n",
    "        print()\n",
    "        while not done: \n",
    "            print(\".\",end=\"\")\n",
    "            action = agent.get_best_action(state)\n",
    "            state, reward, terminated, truncated, _ = env_copy.step(action)\n",
    "            reward_sum += reward\n",
    "            done = terminated# or truncated\n",
    "        episode_rewards[i] = reward_sum\n",
    "    return episode_rewards"
   ]
  },
  {
   "cell_type": "markdown",
   "id": "6df18424",
   "metadata": {},
   "source": [
    "We evaluate the agent's performance and visualize one full episode"
   ]
  },
  {
   "cell_type": "code",
   "execution_count": 24,
   "id": "cd476a88",
   "metadata": {},
   "outputs": [
    {
     "name": "stdout",
     "output_type": "stream",
     "text": [
      "\n",
      ".....................\n",
      ".............\n",
      ".......\n",
      ".............\n",
      ".......\n",
      "mean reward after training =  7.845836059744032\n"
     ]
    }
   ],
   "source": [
    "rewards = eval_agent(agent, env, 5 )\n",
    "print(\"\")\n",
    "print(\"mean reward after training = \", np.mean(rewards))"
   ]
  },
  {
   "cell_type": "code",
   "execution_count": 21,
   "id": "8139999b",
   "metadata": {},
   "outputs": [
    {
     "data": {
      "image/png": "[encoded data removed]",
      "text/plain": [
       "<Figure size 640x480 with 1 Axes>"
      ]
     },
     "metadata": {},
     "output_type": "display_data"
    },
    {
     "name": "stdout",
     "output_type": "stream",
     "text": [
      "Episode total reward: 13.519022613103076\n"
     ]
    }
   ],
   "source": [
    "# Modifier le paramètre via unwrapped\n",
    "env.unwrapped.config['vehicles_density'] = 1.7\n",
    "\n",
    "# Fonction de visualisation\n",
    "def run_one_episode(env, agent, display=True):        \n",
    "    display_env = deepcopy(env)        \n",
    "    done = False  \n",
    "    state, _ = display_env.reset()        \n",
    "    rewards = 0        \n",
    "\n",
    "    while not done:  \n",
    "        action = agent.get_best_action(state)  \n",
    "        print(f\"Action: {action}\")\n",
    "        state, reward, terminated, truncated, _ = display_env.step(action)    \n",
    "        rewards += reward        \n",
    "        done = terminated or truncated\n",
    "\n",
    "        if display:         \n",
    "            clear_output(wait=True)        \n",
    "            plt.imshow(display_env.render())        \n",
    "            plt.axis(\"off\")\n",
    "            plt.show()        \n",
    "    \n",
    "    if display:        \n",
    "        display_env.close()        \n",
    "    print(f\"Episode total reward: {rewards}\")\n",
    "\n",
    "# Lancer un épisode avec la config modifiée\n",
    "run_one_episode(env, agent, display=True)\n"
   ]
  },
  {
   "cell_type": "code",
   "execution_count": 22,
   "id": "b34baa81",
   "metadata": {},
   "outputs": [
    {
     "data": {
      "image/png": "[encoded data removed]",
      "text/plain": [
       "<Figure size 1000x400 with 1 Axes>"
      ]
     },
     "metadata": {},
     "output_type": "display_data"
    }
   ],
   "source": [
    "plt.figure(figsize=(10,4))\n",
    "plt.plot(losses)\n",
    "plt.title(\"Training Loss Over Time\")\n",
    "plt.xlabel(\"Steps\")\n",
    "plt.ylabel(\"Loss\")\n",
    "plt.grid(True)\n",
    "plt.show()"
   ]
  },
  {
   "cell_type": "code",
   "execution_count": 23,
   "id": "194368d0",
   "metadata": {},
   "outputs": [
    {
     "data": {
      "image/png": "[encoded data removed]",
      "text/plain": [
       "<Figure size 640x480 with 1 Axes>"
      ]
     },
     "metadata": {},
     "output_type": "display_data"
    },
    {
     "name": "stdout",
     "output_type": "stream",
     "text": [
      "Episode total reward: 13.519022613103076\n"
     ]
    }
   ],
   "source": [
    "agent.epsilon = 0.01\n",
    "run_one_episode(env, agent, display=True)"
   ]
  },
  {
   "cell_type": "code",
   "execution_count": 27,
   "id": "d9ad2a2a",
   "metadata": {},
   "outputs": [
    {
     "name": "stdout",
     "output_type": "stream",
     "text": [
      "Observation shape: (7, 8, 8)\n",
      "Flattened shape: torch.Size([448])\n"
     ]
    }
   ],
   "source": [
    "state, _ = env.reset()  \n",
    "\n",
    "print(\"Observation shape:\", state.shape)\n",
    "print(\"Flattened shape:\", torch.tensor(state).flatten().shape)"
   ]
  }
 ],
 "metadata": {
  "kernelspec": {
   "display_name": "Python 3",
   "language": "python",
   "name": "python3"
  },
  "language_info": {
   "codemirror_mode": {
    "name": "ipython",
    "version": 3
   },
   "file_extension": ".py",
   "mimetype": "text/x-python",
   "name": "python",
   "nbconvert_exporter": "python",
   "pygments_lexer": "ipython3",
   "version": "3.12.8"
  }
 },
 "nbformat": 4,
 "nbformat_minor": 5
}
